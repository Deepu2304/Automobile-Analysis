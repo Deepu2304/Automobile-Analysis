{
 "cells": [
  {
   "cell_type": "code",
   "execution_count": null,
   "id": "434b9a06",
   "metadata": {},
   "outputs": [],
   "source": [
    "import numpy as np\n",
    "import pandas as pd \n",
    "import matplotlib.pyplot as plt\n",
    "from matplotlib.pyplot import figure\n",
    "import seaborn as sns\n",
    "sns.set_theme(style=\"whitegrid\")\n",
    "import os"
   ]
  },
  {
   "cell_type": "code",
   "execution_count": null,
   "id": "255d229d",
   "metadata": {},
   "outputs": [],
   "source": [
    "automobile_path=\"/Users/jaideepsai/Desktop/DATA-ANALYTICS/Data Source/extracted-data/Automobile/Car Sales.xlsx - car_data.csv\"\n",
    "automobile_data=pd.read_csv(automobile_path, delimiter=',')"
   ]
  },
  {
   "cell_type": "code",
   "execution_count": null,
   "id": "afa1b66f",
   "metadata": {},
   "outputs": [],
   "source": [
    "automobile_data.head()"
   ]
  },
  {
   "cell_type": "code",
   "execution_count": null,
   "id": "87b911ae",
   "metadata": {},
   "outputs": [],
   "source": [
    "automobile_data.info()"
   ]
  },
  {
   "cell_type": "code",
   "execution_count": null,
   "id": "92738666",
   "metadata": {},
   "outputs": [],
   "source": [
    "statistics=automobile_data.describe()\n",
    "print(\"statistics\")\n",
    "print(statistics)"
   ]
  },
  {
   "cell_type": "code",
   "execution_count": null,
   "id": "6ef862fa",
   "metadata": {
    "scrolled": false
   },
   "outputs": [],
   "source": [
    "automobile_data.isnull().sum()"
   ]
  },
  {
   "cell_type": "code",
   "execution_count": null,
   "id": "a9d6382b",
   "metadata": {},
   "outputs": [],
   "source": [
    "fig, ax = plt.subplots(1, 1, figsize = (9,5))\n",
    "automobile_data['Price ($)'].hist(bins=50, ax=ax)\n",
    "plt.xlabel('Price')\n",
    "plt.ylabel('Count')\n",
    "plt.title('Distribution of prices')"
   ]
  },
  {
   "cell_type": "code",
   "execution_count": null,
   "id": "23f886cd",
   "metadata": {},
   "outputs": [],
   "source": [
    "figure(figsize=(6, 6))\n",
    "sns.histplot(data=automobile_data, x='Price ($)', hue='Transmission', fill=True, kde=True)"
   ]
  },
  {
   "cell_type": "code",
   "execution_count": null,
   "id": "4b40a42d",
   "metadata": {},
   "outputs": [],
   "source": [
    "sns.boxplot(data=automobile_data,x='Gender',y='Annual Income')\n",
    "plt.show()"
   ]
  },
  {
   "cell_type": "code",
   "execution_count": null,
   "id": "c4c9bd0b",
   "metadata": {},
   "outputs": [],
   "source": [
    "fig, ax1 = plt.subplots(1, 1, figsize = (19,5))\n",
    "automobile_data['Company'].value_counts().plot(ax=ax1, kind='bar')\n",
    "plt.xlabel('Model')\n",
    "plt.title('Distribution of Manufactures')"
   ]
  },
  {
   "cell_type": "code",
   "execution_count": null,
   "id": "234c386b",
   "metadata": {},
   "outputs": [],
   "source": [
    "plt.figure(figsize=(5, 4))\n",
    "sns.countplot(data=automobile_data,x='Engine',palette='husl')"
   ]
  },
  {
   "cell_type": "code",
   "execution_count": null,
   "id": "623247e6",
   "metadata": {},
   "outputs": [],
   "source": [
    "plt.figure(figsize=(5, 5))\n",
    "sns.countplot(data=automobile_data,x='Transmission',palette = 'Blues')"
   ]
  },
  {
   "cell_type": "code",
   "execution_count": null,
   "id": "f54c684a",
   "metadata": {},
   "outputs": [],
   "source": [
    "fig, ax2 = plt.subplots(1, 1, figsize = (9,5))\n",
    "automobile_data['Gender'].value_counts().plot(ax=ax2, kind='bar')\n",
    "plt.xlabel('Gender')\n",
    "plt.title('Distribution of Gender')"
   ]
  },
  {
   "cell_type": "code",
   "execution_count": null,
   "id": "b1e72123",
   "metadata": {},
   "outputs": [],
   "source": [
    "figure(figsize=(6, 7))\n",
    "sns.barplot(data=automobile_data, x='Body Style', y='Price ($)', hue='Gender', palette='pastel')"
   ]
  },
  {
   "cell_type": "code",
   "execution_count": null,
   "id": "2a4af47c",
   "metadata": {},
   "outputs": [],
   "source": [
    "features = ['Annual Income']\n",
    "\n",
    "\n",
    "for i, feature in enumerate(features):\n",
    "    plt.subplots(1, 1, figsize=(5, 5))  # 2 rows, 3 columns\n",
    "    sns.boxplot(x=automobile_data[feature])\n",
    "    plt.title(f'Boxplot of {feature}')\n",
    "\n",
    "plt.show()"
   ]
  },
  {
   "cell_type": "code",
   "execution_count": null,
   "id": "93a3a1c3",
   "metadata": {},
   "outputs": [],
   "source": [
    "sns.histplot(data=automobile_data,x='Annual Income',kde=True,bins=14,hue='Gender')\n",
    "plt.show()"
   ]
  },
  {
   "cell_type": "code",
   "execution_count": null,
   "id": "4731e9d9",
   "metadata": {},
   "outputs": [],
   "source": [
    "figure(figsize=(10, 6))\n",
    "sns.scatterplot(automobile_data, x='Price ($)', y='Company', hue='Transmission')"
   ]
  },
  {
   "cell_type": "code",
   "execution_count": null,
   "id": "5162aa48",
   "metadata": {},
   "outputs": [],
   "source": [
    "sns.kdeplot(data=automobile_data,x='Price ($)',hue='Body Style')"
   ]
  },
  {
   "cell_type": "code",
   "execution_count": null,
   "id": "c3e73df5",
   "metadata": {},
   "outputs": [],
   "source": [
    "plt.figure(figsize=(10,10))\n",
    "\n",
    "sns.boxplot(data=automobile_data,y='Company',x='Price ($)')"
   ]
  },
  {
   "cell_type": "code",
   "execution_count": null,
   "id": "5bea30c6",
   "metadata": {},
   "outputs": [],
   "source": [
    "figure(figsize=(8, 5))\n",
    "sns.boxplot(data=automobile_data, x='Price ($)', y='Body Style', palette='pastel', hue='Body Style', width=.5)"
   ]
  },
  {
   "cell_type": "code",
   "execution_count": null,
   "id": "bea4b959",
   "metadata": {},
   "outputs": [],
   "source": []
  }
 ],
 "metadata": {
  "kernelspec": {
   "display_name": "Python 3 (ipykernel)",
   "language": "python",
   "name": "python3"
  },
  "language_info": {
   "codemirror_mode": {
    "name": "ipython",
    "version": 3
   },
   "file_extension": ".py",
   "mimetype": "text/x-python",
   "name": "python",
   "nbconvert_exporter": "python",
   "pygments_lexer": "ipython3",
   "version": "3.11.5"
  }
 },
 "nbformat": 4,
 "nbformat_minor": 5
}
